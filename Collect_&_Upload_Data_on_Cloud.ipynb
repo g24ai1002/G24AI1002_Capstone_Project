{
 "cells": [
  {
   "cell_type": "code",
   "execution_count": 1,
   "id": "93930bee-d467-42a3-8bb3-da156dd98c3c",
   "metadata": {},
   "outputs": [],
   "source": [
    "import kagglehub\n",
    "import pandas as pd\n",
    "import boto3\n",
    "import os"
   ]
  },
  {
   "cell_type": "code",
   "execution_count": 2,
   "id": "8ced15a0-5e3a-4437-a46a-e92b0e8bd90a",
   "metadata": {},
   "outputs": [],
   "source": [
    "id_list = [\n",
    "    \"shrutibhargava94/india-air-quality-data\", \n",
    "    'ankanhore545/deforestation-cover-india-2000-2020', \n",
    "    'shubhamvashisht/hourly-load-india-electrical-load-forecasting', \n",
    "    'nelgiriyewithana/indian-weather-repository-daily-snapshot'  \n",
    "]\n",
    "paths = []"
   ]
  },
  {
   "cell_type": "code",
   "execution_count": 3,
   "id": "9959afae-561e-451f-96c8-eb771953d6e5",
   "metadata": {},
   "outputs": [],
   "source": [
    "for ids in id_list:\n",
    "    path = kagglehub.dataset_download(ids)\n",
    "    paths.append(path)"
   ]
  },
  {
   "cell_type": "code",
   "execution_count": 4,
   "id": "7bfbcae9-2a86-45a0-987c-461dd45e24c5",
   "metadata": {},
   "outputs": [
    {
     "name": "stdout",
     "output_type": "stream",
     "text": [
      "['C:\\\\Users\\\\shubh\\\\.cache\\\\kagglehub\\\\datasets\\\\shrutibhargava94\\\\india-air-quality-data\\\\versions\\\\1', 'C:\\\\Users\\\\shubh\\\\.cache\\\\kagglehub\\\\datasets\\\\ankanhore545\\\\deforestation-cover-india-2000-2020\\\\versions\\\\3', 'C:\\\\Users\\\\shubh\\\\.cache\\\\kagglehub\\\\datasets\\\\shubhamvashisht\\\\hourly-load-india-electrical-load-forecasting\\\\versions\\\\1', 'C:\\\\Users\\\\shubh\\\\.cache\\\\kagglehub\\\\datasets\\\\nelgiriyewithana\\\\indian-weather-repository-daily-snapshot\\\\versions\\\\232']\n"
     ]
    }
   ],
   "source": [
    "print (paths)"
   ]
  },
  {
   "cell_type": "code",
   "execution_count": 5,
   "id": "0aa3aac4-0b80-4923-911b-971a829f192e",
   "metadata": {},
   "outputs": [
    {
     "name": "stdout",
     "output_type": "stream",
     "text": [
      "['C:\\\\Users\\\\shubh\\\\.cache\\\\kagglehub\\\\datasets\\\\shrutibhargava94\\\\india-air-quality-data\\\\versions\\\\1\\\\data.csv', 'C:\\\\Users\\\\shubh\\\\.cache\\\\kagglehub\\\\datasets\\\\ankanhore545\\\\deforestation-cover-india-2000-2020\\\\versions\\\\3\\\\Country carbon data.xlsx', 'C:\\\\Users\\\\shubh\\\\.cache\\\\kagglehub\\\\datasets\\\\ankanhore545\\\\deforestation-cover-india-2000-2020\\\\versions\\\\3\\\\Country tree cover loss.xlsx', 'C:\\\\Users\\\\shubh\\\\.cache\\\\kagglehub\\\\datasets\\\\ankanhore545\\\\deforestation-cover-india-2000-2020\\\\versions\\\\3\\\\Subnational 1 carbon data.xlsx', 'C:\\\\Users\\\\shubh\\\\.cache\\\\kagglehub\\\\datasets\\\\ankanhore545\\\\deforestation-cover-india-2000-2020\\\\versions\\\\3\\\\Subnational 1 tree cover loss.xlsx', 'C:\\\\Users\\\\shubh\\\\.cache\\\\kagglehub\\\\datasets\\\\ankanhore545\\\\deforestation-cover-india-2000-2020\\\\versions\\\\3\\\\Subnational 2 carbon data.xlsx', 'C:\\\\Users\\\\shubh\\\\.cache\\\\kagglehub\\\\datasets\\\\ankanhore545\\\\deforestation-cover-india-2000-2020\\\\versions\\\\3\\\\Subnational 2 tree cover loss.xlsx', 'C:\\\\Users\\\\shubh\\\\.cache\\\\kagglehub\\\\datasets\\\\shubhamvashisht\\\\hourly-load-india-electrical-load-forecasting\\\\versions\\\\1\\\\hourlyLoadDataIndia.xlsx', 'C:\\\\Users\\\\shubh\\\\.cache\\\\kagglehub\\\\datasets\\\\shubhamvashisht\\\\hourly-load-india-electrical-load-forecasting\\\\versions\\\\1\\\\monthly_temp.xlsx']\n"
     ]
    }
   ],
   "source": [
    "import os\n",
    "new_paths =[]\n",
    "for path in paths:\n",
    "    files = os.listdir(path)\n",
    "    for f in files:\n",
    "        new_path = path + \"\\\\\" + f\n",
    "        new_paths.append(new_path)\n",
    "\n",
    "print(new_paths)"
   ]
  },
  {
   "cell_type": "code",
   "execution_count": 6,
   "id": "0aee176a-2864-48da-bf05-ef4132442e70",
   "metadata": {},
   "outputs": [],
   "source": [
    "import boto3\n",
    "import os\n",
    "from tqdm import tqdm\n",
    "\n",
    "# ✅ S3 Configuration\n",
    "BUCKET_NAME = 'openaq-athena-query-results-iitj-project'\n",
    "s3 = boto3.client('s3')  # Add region_name='ap-south-1' if needed\n",
    "\n",
    "def upload_files_to_s3(file_paths, s3_keys):\n",
    "    \"\"\"\n",
    "    Uploads multiple files to S3.\n",
    "\n",
    "    Parameters:\n",
    "        file_paths (list): List of local file paths.\n",
    "        s3_keys (list): List of corresponding S3 keys (paths inside the bucket).\n",
    "    \"\"\"\n",
    "    if len(file_paths) != len(s3_keys):\n",
    "        print(\"❌ Length mismatch: file_paths and s3_keys must be the same.\")\n",
    "        return\n",
    "\n",
    "    for file_path, s3_key in tqdm(zip(file_paths, s3_keys), total=len(file_paths), desc=\"Uploading to S3\"):\n",
    "        try:\n",
    "            with open(file_path, 'rb') as f:\n",
    "                s3.upload_fileobj(f, BUCKET_NAME, s3_key)\n",
    "            print(f\"✅ Uploaded to s3://{BUCKET_NAME}/{s3_key}\")\n",
    "        except Exception as e:\n",
    "            print(f\"❌ Failed to upload {file_path}: {e}\")\n"
   ]
  },
  {
   "cell_type": "code",
   "execution_count": 7,
   "id": "d035123b-d1aa-40ce-a846-7db5049357e7",
   "metadata": {},
   "outputs": [
    {
     "name": "stderr",
     "output_type": "stream",
     "text": [
      "Uploading to S3:  11%|███████▍                                                           | 1/9 [00:28<03:49, 28.73s/it]"
     ]
    },
    {
     "name": "stdout",
     "output_type": "stream",
     "text": [
      "✅ Uploaded to s3://openaq-athena-query-results-iitj-project/envir/india-air-quality-data_versions_1_data.csv\n"
     ]
    },
    {
     "name": "stderr",
     "output_type": "stream",
     "text": [
      "Uploading to S3:  22%|██████████████▉                                                    | 2/9 [00:29<01:25, 12.20s/it]"
     ]
    },
    {
     "name": "stdout",
     "output_type": "stream",
     "text": [
      "✅ Uploaded to s3://openaq-athena-query-results-iitj-project/envir/weather-data/deforestation-cover-india-2000-2020-versions-3-Country carbon data.xlsx\n"
     ]
    },
    {
     "name": "stderr",
     "output_type": "stream",
     "text": [
      "Uploading to S3:  33%|██████████████████████▎                                            | 3/9 [00:29<00:41,  6.90s/it]"
     ]
    },
    {
     "name": "stdout",
     "output_type": "stream",
     "text": [
      "✅ Uploaded to s3://openaq-athena-query-results-iitj-project/envir/weather-data/deforestation-cover-india-2000-2020-versions-3-Country tree cover loss.xlsx\n"
     ]
    },
    {
     "name": "stderr",
     "output_type": "stream",
     "text": [
      "Uploading to S3:  44%|█████████████████████████████▊                                     | 4/9 [00:30<00:22,  4.45s/it]"
     ]
    },
    {
     "name": "stdout",
     "output_type": "stream",
     "text": [
      "✅ Uploaded to s3://openaq-athena-query-results-iitj-project/envir/deforestation-cover-india-2000-2020-versions-3-Subnational 1 carbon data.xlsx\n"
     ]
    },
    {
     "name": "stderr",
     "output_type": "stream",
     "text": [
      "Uploading to S3:  56%|█████████████████████████████████████▏                             | 5/9 [00:31<00:12,  3.04s/it]"
     ]
    },
    {
     "name": "stdout",
     "output_type": "stream",
     "text": [
      "✅ Uploaded to s3://openaq-athena-query-results-iitj-project/envir/deforestation-cover-india-2000-2020-versions-3-Subnational 1 tree cover loss.xlsx\n"
     ]
    },
    {
     "name": "stderr",
     "output_type": "stream",
     "text": [
      "Uploading to S3:  67%|████████████████████████████████████████████▋                      | 6/9 [00:32<00:06,  2.29s/it]"
     ]
    },
    {
     "name": "stdout",
     "output_type": "stream",
     "text": [
      "✅ Uploaded to s3://openaq-athena-query-results-iitj-project/envir/deforestation-cover-india-2000-2020-versions-3-Subnational 2 carbon data.xlsx\n"
     ]
    },
    {
     "name": "stderr",
     "output_type": "stream",
     "text": [
      "Uploading to S3:  78%|████████████████████████████████████████████████████               | 7/9 [00:32<00:03,  1.85s/it]"
     ]
    },
    {
     "name": "stdout",
     "output_type": "stream",
     "text": [
      "✅ Uploaded to s3://openaq-athena-query-results-iitj-project/envir/deforestation-cover-india-2000-2020-versions-3-Subnational 2 tree cover loss.xlsx\n"
     ]
    },
    {
     "name": "stderr",
     "output_type": "stream",
     "text": [
      "Uploading to S3:  89%|███████████████████████████████████████████████████████████▌       | 8/9 [00:35<00:02,  2.03s/it]"
     ]
    },
    {
     "name": "stdout",
     "output_type": "stream",
     "text": [
      "✅ Uploaded to s3://openaq-athena-query-results-iitj-project/envir/hourly-load-india-electrical-load-forecasting-versions-1-hourlyLoadDataIndia.xlsx\n"
     ]
    },
    {
     "name": "stderr",
     "output_type": "stream",
     "text": [
      "Uploading to S3: 100%|███████████████████████████████████████████████████████████████████| 9/9 [00:36<00:00,  4.01s/it]"
     ]
    },
    {
     "name": "stdout",
     "output_type": "stream",
     "text": [
      "✅ Uploaded to s3://openaq-athena-query-results-iitj-project/envir/hourly-load-india-electrical-load-forecasting-versions-1-monthly_temp.xlsx\n"
     ]
    },
    {
     "name": "stderr",
     "output_type": "stream",
     "text": [
      "\n"
     ]
    }
   ],
   "source": [
    "s3_keys = [\n",
    "    'envir/india-air-quality-data_versions_1_data.csv',\n",
    "    'envir/weather-data/deforestation-cover-india-2000-2020-versions-3-Country carbon data.xlsx',\n",
    "    'envir/weather-data/deforestation-cover-india-2000-2020-versions-3-Country tree cover loss.xlsx',\n",
    "    'envir/deforestation-cover-india-2000-2020-versions-3-Subnational 1 carbon data.xlsx',\n",
    "    'envir/deforestation-cover-india-2000-2020-versions-3-Subnational 1 tree cover loss.xlsx',\n",
    "    'envir/deforestation-cover-india-2000-2020-versions-3-Subnational 2 carbon data.xlsx',\n",
    "    'envir/deforestation-cover-india-2000-2020-versions-3-Subnational 2 tree cover loss.xlsx',\n",
    "    'envir/hourly-load-india-electrical-load-forecasting-versions-1-hourlyLoadDataIndia.xlsx',\n",
    "    'envir/hourly-load-india-electrical-load-forecasting-versions-1-monthly_temp.xlsx'\n",
    "]\n",
    "\n",
    "upload_files_to_s3(new_paths, s3_keys)"
   ]
  }
 ],
 "metadata": {
  "kernelspec": {
   "display_name": "Python 3 (ipykernel)",
   "language": "python",
   "name": "python3"
  },
  "language_info": {
   "codemirror_mode": {
    "name": "ipython",
    "version": 3
   },
   "file_extension": ".py",
   "mimetype": "text/x-python",
   "name": "python",
   "nbconvert_exporter": "python",
   "pygments_lexer": "ipython3",
   "version": "3.12.7"
  }
 },
 "nbformat": 4,
 "nbformat_minor": 5
}
